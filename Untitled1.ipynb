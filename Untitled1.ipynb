{
 "cells": [
  {
   "cell_type": "code",
   "execution_count": 230,
   "metadata": {},
   "outputs": [],
   "source": [
    "import numpy as np\n",
    "import pandas as pd\n",
    "import matplotlib.pyplot as plt\n",
    "from sklearn.metrics import mean_squared_error, r2_score"
   ]
  },
  {
   "cell_type": "code",
   "execution_count": 232,
   "metadata": {},
   "outputs": [],
   "source": [
    "data = pd.read_csv('exercice.csv', encoding = \"ISO-8859-1\", sep=\";\")"
   ]
  },
  {
   "cell_type": "code",
   "execution_count": 233,
   "metadata": {},
   "outputs": [
    {
     "data": {
      "text/plain": [
       "(1000, 12)"
      ]
     },
     "execution_count": 233,
     "metadata": {},
     "output_type": "execute_result"
    }
   ],
   "source": [
    "data.shape"
   ]
  },
  {
   "cell_type": "code",
   "execution_count": 234,
   "metadata": {},
   "outputs": [
    {
     "data": {
      "text/html": [
       "<div>\n",
       "<style scoped>\n",
       "    .dataframe tbody tr th:only-of-type {\n",
       "        vertical-align: middle;\n",
       "    }\n",
       "\n",
       "    .dataframe tbody tr th {\n",
       "        vertical-align: top;\n",
       "    }\n",
       "\n",
       "    .dataframe thead th {\n",
       "        text-align: right;\n",
       "    }\n",
       "</style>\n",
       "<table border=\"1\" class=\"dataframe\">\n",
       "  <thead>\n",
       "    <tr style=\"text-align: right;\">\n",
       "      <th></th>\n",
       "      <th>satis</th>\n",
       "      <th>primeur</th>\n",
       "      <th>exclusivité</th>\n",
       "      <th>variété</th>\n",
       "      <th>exploration</th>\n",
       "      <th>découverte</th>\n",
       "      <th>apprendre</th>\n",
       "      <th>sélection</th>\n",
       "      <th>catalogue</th>\n",
       "      <th>techno</th>\n",
       "      <th>personnalisation</th>\n",
       "      <th>interface</th>\n",
       "    </tr>\n",
       "  </thead>\n",
       "  <tbody>\n",
       "    <tr>\n",
       "      <th>count</th>\n",
       "      <td>1000.000000</td>\n",
       "      <td>1000.000000</td>\n",
       "      <td>1000.000000</td>\n",
       "      <td>1000.000000</td>\n",
       "      <td>1000.000000</td>\n",
       "      <td>1000.000000</td>\n",
       "      <td>1000.000000</td>\n",
       "      <td>1000.000000</td>\n",
       "      <td>1000.000000</td>\n",
       "      <td>1000.000000</td>\n",
       "      <td>1000.000000</td>\n",
       "      <td>1000.000000</td>\n",
       "    </tr>\n",
       "    <tr>\n",
       "      <th>mean</th>\n",
       "      <td>6.860000</td>\n",
       "      <td>3.159000</td>\n",
       "      <td>2.953000</td>\n",
       "      <td>3.145000</td>\n",
       "      <td>2.797000</td>\n",
       "      <td>2.978000</td>\n",
       "      <td>2.765000</td>\n",
       "      <td>3.156000</td>\n",
       "      <td>3.153000</td>\n",
       "      <td>2.802000</td>\n",
       "      <td>2.736000</td>\n",
       "      <td>2.624000</td>\n",
       "    </tr>\n",
       "    <tr>\n",
       "      <th>std</th>\n",
       "      <td>1.871872</td>\n",
       "      <td>0.725428</td>\n",
       "      <td>0.785753</td>\n",
       "      <td>0.693149</td>\n",
       "      <td>0.782562</td>\n",
       "      <td>0.700004</td>\n",
       "      <td>0.730965</td>\n",
       "      <td>0.691478</td>\n",
       "      <td>0.695755</td>\n",
       "      <td>0.783205</td>\n",
       "      <td>0.827641</td>\n",
       "      <td>0.808256</td>\n",
       "    </tr>\n",
       "    <tr>\n",
       "      <th>min</th>\n",
       "      <td>0.000000</td>\n",
       "      <td>1.000000</td>\n",
       "      <td>1.000000</td>\n",
       "      <td>1.000000</td>\n",
       "      <td>1.000000</td>\n",
       "      <td>1.000000</td>\n",
       "      <td>1.000000</td>\n",
       "      <td>1.000000</td>\n",
       "      <td>1.000000</td>\n",
       "      <td>1.000000</td>\n",
       "      <td>1.000000</td>\n",
       "      <td>1.000000</td>\n",
       "    </tr>\n",
       "    <tr>\n",
       "      <th>25%</th>\n",
       "      <td>6.000000</td>\n",
       "      <td>3.000000</td>\n",
       "      <td>2.000000</td>\n",
       "      <td>3.000000</td>\n",
       "      <td>2.000000</td>\n",
       "      <td>3.000000</td>\n",
       "      <td>2.000000</td>\n",
       "      <td>3.000000</td>\n",
       "      <td>3.000000</td>\n",
       "      <td>2.000000</td>\n",
       "      <td>2.000000</td>\n",
       "      <td>2.000000</td>\n",
       "    </tr>\n",
       "    <tr>\n",
       "      <th>50%</th>\n",
       "      <td>7.000000</td>\n",
       "      <td>3.000000</td>\n",
       "      <td>3.000000</td>\n",
       "      <td>3.000000</td>\n",
       "      <td>3.000000</td>\n",
       "      <td>3.000000</td>\n",
       "      <td>3.000000</td>\n",
       "      <td>3.000000</td>\n",
       "      <td>3.000000</td>\n",
       "      <td>3.000000</td>\n",
       "      <td>3.000000</td>\n",
       "      <td>3.000000</td>\n",
       "    </tr>\n",
       "    <tr>\n",
       "      <th>75%</th>\n",
       "      <td>8.000000</td>\n",
       "      <td>4.000000</td>\n",
       "      <td>3.000000</td>\n",
       "      <td>4.000000</td>\n",
       "      <td>3.000000</td>\n",
       "      <td>3.000000</td>\n",
       "      <td>3.000000</td>\n",
       "      <td>4.000000</td>\n",
       "      <td>4.000000</td>\n",
       "      <td>3.000000</td>\n",
       "      <td>3.000000</td>\n",
       "      <td>3.000000</td>\n",
       "    </tr>\n",
       "    <tr>\n",
       "      <th>max</th>\n",
       "      <td>10.000000</td>\n",
       "      <td>4.000000</td>\n",
       "      <td>4.000000</td>\n",
       "      <td>4.000000</td>\n",
       "      <td>4.000000</td>\n",
       "      <td>4.000000</td>\n",
       "      <td>4.000000</td>\n",
       "      <td>4.000000</td>\n",
       "      <td>4.000000</td>\n",
       "      <td>4.000000</td>\n",
       "      <td>4.000000</td>\n",
       "      <td>4.000000</td>\n",
       "    </tr>\n",
       "  </tbody>\n",
       "</table>\n",
       "</div>"
      ],
      "text/plain": [
       "             satis      primeur  exclusivité      variété  exploration  \\\n",
       "count  1000.000000  1000.000000  1000.000000  1000.000000  1000.000000   \n",
       "mean      6.860000     3.159000     2.953000     3.145000     2.797000   \n",
       "std       1.871872     0.725428     0.785753     0.693149     0.782562   \n",
       "min       0.000000     1.000000     1.000000     1.000000     1.000000   \n",
       "25%       6.000000     3.000000     2.000000     3.000000     2.000000   \n",
       "50%       7.000000     3.000000     3.000000     3.000000     3.000000   \n",
       "75%       8.000000     4.000000     3.000000     4.000000     3.000000   \n",
       "max      10.000000     4.000000     4.000000     4.000000     4.000000   \n",
       "\n",
       "        découverte    apprendre    sélection    catalogue       techno  \\\n",
       "count  1000.000000  1000.000000  1000.000000  1000.000000  1000.000000   \n",
       "mean      2.978000     2.765000     3.156000     3.153000     2.802000   \n",
       "std       0.700004     0.730965     0.691478     0.695755     0.783205   \n",
       "min       1.000000     1.000000     1.000000     1.000000     1.000000   \n",
       "25%       3.000000     2.000000     3.000000     3.000000     2.000000   \n",
       "50%       3.000000     3.000000     3.000000     3.000000     3.000000   \n",
       "75%       3.000000     3.000000     4.000000     4.000000     3.000000   \n",
       "max       4.000000     4.000000     4.000000     4.000000     4.000000   \n",
       "\n",
       "       personnalisation    interface  \n",
       "count       1000.000000  1000.000000  \n",
       "mean           2.736000     2.624000  \n",
       "std            0.827641     0.808256  \n",
       "min            1.000000     1.000000  \n",
       "25%            2.000000     2.000000  \n",
       "50%            3.000000     3.000000  \n",
       "75%            3.000000     3.000000  \n",
       "max            4.000000     4.000000  "
      ]
     },
     "execution_count": 234,
     "metadata": {},
     "output_type": "execute_result"
    }
   ],
   "source": [
    "data.describe()"
   ]
  },
  {
   "cell_type": "markdown",
   "metadata": {},
   "source": [
    "satis est la variable cible"
   ]
  },
  {
   "cell_type": "code",
   "execution_count": 235,
   "metadata": {},
   "outputs": [
    {
     "name": "stdout",
     "output_type": "stream",
     "text": [
      "(700, 12)\n",
      "(300, 12)\n"
     ]
    },
    {
     "name": "stderr",
     "output_type": "stream",
     "text": [
      "D:\\python\\lib\\site-packages\\sklearn\\model_selection\\_split.py:2179: FutureWarning: From version 0.21, test_size will always complement train_size unless both are specified.\n",
      "  FutureWarning)\n"
     ]
    }
   ],
   "source": [
    "from sklearn.model_selection import train_test_split\n",
    "dataTrain, dataTest = train_test_split(data,train_size = 700,random_state=1)\n",
    "print(dataTrain.shape) \n",
    "print(dataTest.shape) "
   ]
  },
  {
   "cell_type": "markdown",
   "metadata": {},
   "source": [
    "Nous utilisons l’outil dédié du package « scikit-learn » pour subdiviser les données. Nous optons pour ntrain = 700 observations pour l’apprentissage, ntest = 300 pour l’évaluation"
   ]
  },
  {
   "cell_type": "code",
   "execution_count": 236,
   "metadata": {},
   "outputs": [
    {
     "name": "stdout",
     "output_type": "stream",
     "text": [
      "(700, 11)\n"
     ]
    }
   ],
   "source": [
    "XTrain = dataTrain.iloc[:, 1:12]\n",
    "print(XTrain.shape)"
   ]
  },
  {
   "cell_type": "code",
   "execution_count": 237,
   "metadata": {},
   "outputs": [],
   "source": [
    "import statsmodels.api as sm\n",
    "X1Train = sm.add_constant(XTrain)"
   ]
  },
  {
   "cell_type": "markdown",
   "metadata": {},
   "source": [
    "Nous isolons dans une matrice les variables explicatives de l’échantillon d’apprentissage. Nous lui accolons une colonne de valeurs 1 pour indiquer la constante de la régression."
   ]
  },
  {
   "cell_type": "code",
   "execution_count": 238,
   "metadata": {},
   "outputs": [
    {
     "name": "stdout",
     "output_type": "stream",
     "text": [
      "     const  primeur  exclusivité  variété  exploration  découverte  apprendre  \\\n",
      "731    1.0        3            3        3            3           4          3   \n",
      "716    1.0        3            4        3            4           4          3   \n",
      "640    1.0        3            2        3            2           3          3   \n",
      "804    1.0        1            2        3            3           3          1   \n",
      "737    1.0        4            3        3            3           3          2   \n",
      "\n",
      "     sélection  catalogue  techno  personnalisation  interface  \n",
      "731          3          3       3                 3          3  \n",
      "716          3          4       3                 3          4  \n",
      "640          3          2       2                 2          2  \n",
      "804          3          1       1                 1          1  \n",
      "737          3          2       2                 1          2  \n"
     ]
    }
   ],
   "source": [
    "print(X1Train.head())"
   ]
  },
  {
   "cell_type": "code",
   "execution_count": 239,
   "metadata": {},
   "outputs": [],
   "source": [
    "yTrain = dataTrain.iloc[:,0]"
   ]
  },
  {
   "cell_type": "code",
   "execution_count": 240,
   "metadata": {},
   "outputs": [],
   "source": [
    "reg = sm.OLS(yTrain, X1Train)\n",
    "resReg = reg.fit()"
   ]
  },
  {
   "cell_type": "markdown",
   "metadata": {},
   "source": [
    "Nous isolons le vecteur cible et nous lançons la régression."
   ]
  },
  {
   "cell_type": "code",
   "execution_count": 241,
   "metadata": {},
   "outputs": [
    {
     "name": "stdout",
     "output_type": "stream",
     "text": [
      "                            OLS Regression Results                            \n",
      "==============================================================================\n",
      "Dep. Variable:                  satis   R-squared:                       0.301\n",
      "Model:                            OLS   Adj. R-squared:                  0.290\n",
      "Method:                 Least Squares   F-statistic:                     27.00\n",
      "Date:                Sun, 17 Mar 2019   Prob (F-statistic):           5.99e-47\n",
      "Time:                        14:19:49   Log-Likelihood:                -1308.3\n",
      "No. Observations:                 700   AIC:                             2641.\n",
      "Df Residuals:                     688   BIC:                             2695.\n",
      "Df Model:                          11                                         \n",
      "Covariance Type:            nonrobust                                         \n",
      "====================================================================================\n",
      "                       coef    std err          t      P>|t|      [0.025      0.975]\n",
      "------------------------------------------------------------------------------------\n",
      "const                1.3359      0.340      3.931      0.000       0.669       2.003\n",
      "primeur              0.1037      0.127      0.819      0.413      -0.145       0.352\n",
      "exclusivité          0.3307      0.107      3.087      0.002       0.120       0.541\n",
      "variété              0.5024      0.132      3.796      0.000       0.243       0.762\n",
      "exploration          0.0517      0.102      0.509      0.611      -0.148       0.251\n",
      "découverte           0.0282      0.117      0.241      0.809      -0.201       0.258\n",
      "apprendre            0.0807      0.106      0.758      0.449      -0.128       0.290\n",
      "sélection            0.2122      0.125      1.693      0.091      -0.034       0.458\n",
      "catalogue            0.2732      0.122      2.233      0.026       0.033       0.514\n",
      "techno               0.0069      0.096      0.072      0.943      -0.182       0.196\n",
      "personnalisation     0.1708      0.096      1.770      0.077      -0.019       0.360\n",
      "interface            0.0612      0.099      0.621      0.535      -0.132       0.255\n",
      "==============================================================================\n",
      "Omnibus:                       86.293   Durbin-Watson:                   2.042\n",
      "Prob(Omnibus):                  0.000   Jarque-Bera (JB):              169.336\n",
      "Skew:                          -0.735   Prob(JB):                     1.69e-37\n",
      "Kurtosis:                       4.909   Cond. No.                         57.2\n",
      "==============================================================================\n",
      "\n",
      "Warnings:\n",
      "[1] Standard Errors assume that the covariance matrix of the errors is correctly specified.\n"
     ]
    }
   ],
   "source": [
    "print(resReg.summary())"
   ]
  },
  {
   "cell_type": "code",
   "execution_count": 242,
   "metadata": {},
   "outputs": [
    {
     "data": {
      "text/plain": [
       "const               1.335938\n",
       "primeur             0.103666\n",
       "exclusivité         0.330717\n",
       "variété             0.502440\n",
       "exploration         0.051660\n",
       "découverte          0.028176\n",
       "apprendre           0.080677\n",
       "sélection           0.212238\n",
       "catalogue           0.273228\n",
       "techno              0.006898\n",
       "personnalisation    0.170842\n",
       "interface           0.061218\n",
       "dtype: float64"
      ]
     },
     "execution_count": 242,
     "metadata": {},
     "output_type": "execute_result"
    }
   ],
   "source": [
    "resReg.params"
   ]
  },
  {
   "cell_type": "markdown",
   "metadata": {},
   "source": [
    "Les sorties de « statsmodels » sont assez détaillées. R-squared = 0.3 (coefficient de détermination) : le modèle explique de 30% de la variabilité de la variable cible. Les 3 explicatives significatives à 5% (p-value < 0.05) dans le modèle sont : exclusivité , variété, catalogue  \n"
   ]
  },
  {
   "cell_type": "code",
   "execution_count": 243,
   "metadata": {},
   "outputs": [],
   "source": [
    "XTest = dataTest.iloc[:,1:12]\n",
    "X1Test = sm.add_constant(XTest)\n",
    "ypReg = reg.predict(resReg.params,X1Test)"
   ]
  },
  {
   "cell_type": "code",
   "execution_count": 244,
   "metadata": {},
   "outputs": [
    {
     "data": {
      "image/png": "[encoded data removed]",
      "text/plain": [
       "<Figure size 432x288 with 1 Axes>"
      ]
     },
     "metadata": {
      "needs_background": "light"
     },
     "output_type": "display_data"
    }
   ],
   "source": [
    "yTest = dataTest.iloc[:,0]\n",
    "#librairie numpy\n",
    "import numpy\n",
    "#graphique\n",
    "import matplotlib.pyplot as plt\n",
    "plt.scatter(yTest,ypReg)\n",
    "plt.xlabel(\"Observed values\")\n",
    "plt.ylabel(\"Predicted values\")\n",
    "plt.show()\n"
   ]
  },
  {
   "cell_type": "code",
   "execution_count": 245,
   "metadata": {},
   "outputs": [
    {
     "name": "stdout",
     "output_type": "stream",
     "text": [
      "2.4616582363398183\n"
     ]
    }
   ],
   "source": [
    "from sklearn.metrics import mean_squared_error\n",
    "print(mean_squared_error(yTest,ypReg))"
   ]
  },
  {
   "cell_type": "markdown",
   "metadata": {},
   "source": [
    "Les points devraient se situer tout au long de la diagonale principale lorsque les prédictions sont parfaites.Mais dans notre cas c'est pas comme ça. Nous decidons à construire modele avec seul les  3 explicatives significatives: exclusivité , variété, catalogue  "
   ]
  },
  {
   "cell_type": "code",
   "execution_count": 246,
   "metadata": {},
   "outputs": [
    {
     "name": "stdout",
     "output_type": "stream",
     "text": [
      "(700, 3)\n"
     ]
    }
   ],
   "source": [
    "XTrain = dataTrain.loc[:, [\"exclusivité\", \"variété\", \"catalogue\"]]\n",
    "print(XTrain.shape)\n",
    "import statsmodels.api as sm\n",
    "X1Train = sm.add_constant(XTrain)\n",
    "yTrain = dataTrain.iloc[:,0]\n",
    "#lancer la régression\n",
    "reg = sm.OLS(yTrain,X1Train)\n",
    "resReg = reg.fit()"
   ]
  },
  {
   "cell_type": "code",
   "execution_count": 247,
   "metadata": {},
   "outputs": [
    {
     "name": "stdout",
     "output_type": "stream",
     "text": [
      "                            OLS Regression Results                            \n",
      "==============================================================================\n",
      "Dep. Variable:                  satis   R-squared:                       0.282\n",
      "Model:                            OLS   Adj. R-squared:                  0.279\n",
      "Method:                 Least Squares   F-statistic:                     91.19\n",
      "Date:                Sun, 17 Mar 2019   Prob (F-statistic):           8.86e-50\n",
      "Time:                        14:20:05   Log-Likelihood:                -1317.8\n",
      "No. Observations:                 700   AIC:                             2644.\n",
      "Df Residuals:                     696   BIC:                             2662.\n",
      "Df Model:                           3                                         \n",
      "Covariance Type:            nonrobust                                         \n",
      "===============================================================================\n",
      "                  coef    std err          t      P>|t|      [0.025      0.975]\n",
      "-------------------------------------------------------------------------------\n",
      "const           1.8306      0.313      5.848      0.000       1.216       2.445\n",
      "exclusivité     0.4963      0.097      5.142      0.000       0.307       0.686\n",
      "variété         0.7124      0.120      5.932      0.000       0.477       0.948\n",
      "catalogue       0.4167      0.116      3.577      0.000       0.188       0.645\n",
      "==============================================================================\n",
      "Omnibus:                       81.596   Durbin-Watson:                   2.052\n",
      "Prob(Omnibus):                  0.000   Jarque-Bera (JB):              143.281\n",
      "Skew:                          -0.740   Prob(JB):                     7.71e-32\n",
      "Kurtosis:                       4.650   Cond. No.                         29.4\n",
      "==============================================================================\n",
      "\n",
      "Warnings:\n",
      "[1] Standard Errors assume that the covariance matrix of the errors is correctly specified.\n"
     ]
    }
   ],
   "source": [
    "print(resReg.summary())"
   ]
  },
  {
   "cell_type": "code",
   "execution_count": 248,
   "metadata": {},
   "outputs": [],
   "source": [
    "XTest = dataTest.loc[:, [\"exclusivité\", \"variété\", \"catalogue\"]]\n",
    "X1Test = sm.add_constant(XTest)\n",
    "#appliquer le modèle\n",
    "ypReg = reg.predict(resReg.params,X1Test)"
   ]
  },
  {
   "cell_type": "code",
   "execution_count": 249,
   "metadata": {},
   "outputs": [
    {
     "name": "stdout",
     "output_type": "stream",
     "text": [
      "2.5428767969140442\n"
     ]
    }
   ],
   "source": [
    "from sklearn.metrics import mean_squared_error\n",
    "print(mean_squared_error(yTest,ypReg))"
   ]
  },
  {
   "cell_type": "code",
   "execution_count": 250,
   "metadata": {},
   "outputs": [
    {
     "data": {
      "text/plain": [
       "array([5, 1, 1, 7, 8, 4, 2, 1, 9, 3, 6])"
      ]
     },
     "execution_count": 250,
     "metadata": {},
     "output_type": "execute_result"
    }
   ],
   "source": [
    "from sklearn.feature_selection import RFE\n",
    "from sklearn.linear_model import LinearRegression\n",
    "XTrain = dataTrain.iloc[:, 1:12]\n",
    "\n",
    "estimator = LinearRegression()\n",
    "selector = RFE(estimator, 3, step=1)\n",
    "selector = selector.fit(XTrain, yTrain)\n",
    "selector.ranking_"
   ]
  },
  {
   "cell_type": "markdown",
   "metadata": {},
   "source": [
    "Nous choisisons Regression Lasso pour ameliorer le modele"
   ]
  },
  {
   "cell_type": "code",
   "execution_count": 251,
   "metadata": {},
   "outputs": [
    {
     "name": "stderr",
     "output_type": "stream",
     "text": [
      "D:\\python\\lib\\site-packages\\sklearn\\preprocessing\\data.py:625: DataConversionWarning: Data with input dtype int64 were all converted to float64 by StandardScaler.\n",
      "  return self.partial_fit(X, y)\n",
      "D:\\python\\lib\\site-packages\\sklearn\\base.py:462: DataConversionWarning: Data with input dtype int64 were all converted to float64 by StandardScaler.\n",
      "  return self.fit(X, **fit_params).transform(X)\n"
     ]
    }
   ],
   "source": [
    "from sklearn.preprocessing import StandardScaler\n",
    "sc = StandardScaler()\n",
    "ZTrain =sc.fit_transform(dataTrain)"
   ]
  },
  {
   "cell_type": "markdown",
   "metadata": {},
   "source": [
    "Il est préférable de centrer et réduire les variables dans la régression régularisée afin que le\n",
    "coefficient de pénalité α agisse de manière homogène sur l’ensemble des coefficients de la régression"
   ]
  },
  {
   "cell_type": "code",
   "execution_count": 252,
   "metadata": {},
   "outputs": [
    {
     "name": "stdout",
     "output_type": "stream",
     "text": [
      "[6.87428571 3.16       2.98285714 3.15857143 2.80285714 2.99142857\n",
      " 2.79285714 3.17142857 3.15142857 2.80428571 2.74571429 2.61857143]\n"
     ]
    }
   ],
   "source": [
    "print(sc.mean_)"
   ]
  },
  {
   "cell_type": "code",
   "execution_count": 253,
   "metadata": {},
   "outputs": [
    {
     "name": "stdout",
     "output_type": "stream",
     "text": [
      "[3.52133878 0.52868571 0.60542041 0.47628367 0.62970612 0.50849796\n",
      " 0.53566327 0.51061224 0.49992653 0.61169592 0.68676735 0.67308367]\n"
     ]
    }
   ],
   "source": [
    "print(sc.var_)"
   ]
  },
  {
   "cell_type": "markdown",
   "metadata": {},
   "source": [
    "Les variables de la base d’apprentissage sont standardisées, nous disposons des moyennes  et des variances que nous pourrons réutiliser par la suite."
   ]
  },
  {
   "cell_type": "code",
   "execution_count": 254,
   "metadata": {},
   "outputs": [
    {
     "name": "stdout",
     "output_type": "stream",
     "text": [
      "[-9.13554946e-17 -1.82710989e-16  2.57571742e-16  3.14668926e-16\n",
      " -1.72560379e-16 -1.87786294e-16  2.33464042e-16  1.77635684e-16\n",
      "  2.85485921e-16 -1.26882631e-17  2.04281037e-16 -2.61378221e-16]\n"
     ]
    }
   ],
   "source": [
    "print(numpy.mean(ZTrain,axis=0))"
   ]
  },
  {
   "cell_type": "code",
   "execution_count": 255,
   "metadata": {},
   "outputs": [
    {
     "name": "stdout",
     "output_type": "stream",
     "text": [
      "[1. 1. 1. 1. 1. 1. 1. 1. 1. 1. 1. 1.]\n"
     ]
    }
   ],
   "source": [
    "print(numpy.var(ZTrain,axis=0))"
   ]
  },
  {
   "cell_type": "markdown",
   "metadata": {},
   "source": [
    "Et leurs variances sont égales à 1 "
   ]
  },
  {
   "cell_type": "code",
   "execution_count": 256,
   "metadata": {},
   "outputs": [
    {
     "name": "stdout",
     "output_type": "stream",
     "text": [
      "(11, 10)\n"
     ]
    }
   ],
   "source": [
    "my_alphas = numpy.array([0.001,0.01,0.02,0.025,0.05,0.1,0.25,0.5,0.8,1.0])\n",
    "from sklearn.linear_model import Lasso\n",
    "from sklearn.linear_model import lasso_path\n",
    "alpha_for_path, coefs_lasso, _ = lasso_path(ZTrain[:,1:12],ZTrain[:,0],alphas=my_alphas)\n",
    "print(coefs_lasso.shape)"
   ]
  },
  {
   "cell_type": "markdown",
   "metadata": {},
   "source": [
    "Lorsque α est trop élevé, tous les coefficients de la régression sont nuls, nous en avons une illustration ici ; lorsque α est trop faible, proche de 0, nous obtenons les coefficients de la régression linéaire multiple usuelle. Il faut trouver le juste milieu et c’est toute la difficulté de\n",
    "la régression Lasso. L’outil « Lasso path » peut nous y aider. Il produit un graphique qui met en relation les différentes versions de α avec les coefficients estimés"
   ]
  },
  {
   "cell_type": "code",
   "execution_count": 257,
   "metadata": {},
   "outputs": [
    {
     "data": {
      "image/png": "[encoded data removed]",
      "text/plain": [
       "<Figure size 432x288 with 1 Axes>"
      ]
     },
     "metadata": {
      "needs_background": "light"
     },
     "output_type": "display_data"
    }
   ],
   "source": [
    "import matplotlib.cm as cm\n",
    "couleurs = cm.rainbow(numpy.linspace(0,1,16))\n",
    "#graphique lasso path (une courbe par variable)\n",
    "for i in range(coefs_lasso.shape[0]):\n",
    " plt.plot(alpha_for_path,coefs_lasso[i,:],c=couleurs[i])\n",
    "\n",
    "plt.xlabel('Alpha')\n",
    "plt.ylabel('Coefficients')\n",
    "plt.title('Lasso path')\n",
    "plt.show()\n"
   ]
  },
  {
   "cell_type": "code",
   "execution_count": 260,
   "metadata": {},
   "outputs": [
    {
     "name": "stdout",
     "output_type": "stream",
     "text": [
      "   alpha  Nb non-zero coefs\n",
      "0  1.000                  0\n",
      "1  0.800                  0\n",
      "2  0.500                  0\n",
      "3  0.250                  4\n",
      "4  0.100                  8\n",
      "5  0.050                 10\n",
      "6  0.025                 10\n",
      "7  0.020                 10\n",
      "8  0.010                 11\n",
      "9  0.001                 11\n"
     ]
    }
   ],
   "source": [
    "nbNonZero = numpy.apply_along_axis(func1d=numpy.count_nonzero,arr=coefs_lasso,axis=0)\n",
    "print(pd.DataFrame({'alpha':alpha_for_path,'Nb non-zero coefs':nbNonZero}))"
   ]
  },
  {
   "cell_type": "code",
   "execution_count": 261,
   "metadata": {},
   "outputs": [
    {
     "data": {
      "image/png": "[encoded data removed]",
      "text/plain": [
       "<Figure size 432x288 with 1 Axes>"
      ]
     },
     "metadata": {
      "needs_background": "light"
     },
     "output_type": "display_data"
    }
   ],
   "source": [
    "plt.plot(alpha_for_path,nbNonZero)\n",
    "plt.xlabel('Alpha')\n",
    "plt.ylabel('Nb. de variables')\n",
    "plt.title('Nb. variables vs. Alpha')\n",
    "plt.show()"
   ]
  },
  {
   "cell_type": "code",
   "execution_count": 262,
   "metadata": {},
   "outputs": [
    {
     "name": "stdout",
     "output_type": "stream",
     "text": [
      "           Variables  Coefficients\n",
      "0            primeur      0.000000\n",
      "1        exclusivité      0.064386\n",
      "2            variété      0.145219\n",
      "3        exploration      0.000000\n",
      "4         découverte      0.000000\n",
      "5          apprendre      0.000000\n",
      "6          sélection      0.030387\n",
      "7          catalogue      0.041655\n",
      "8             techno      0.000000\n",
      "9   personnalisation      0.000000\n",
      "10         interface      0.000000\n"
     ]
    }
   ],
   "source": [
    "nom_var = data.columns[1:12]\n",
    "#coefficients pour alpha=0.25 (colonne n°3)\n",
    "coefs25 = coefs_lasso[:,3]\n",
    "#affichage des coefficients pour alpha = 0.25\n",
    "print(pd.DataFrame({'Variables':nom_var,'Coefficients':coefs25}))"
   ]
  },
  {
   "cell_type": "code",
   "execution_count": 263,
   "metadata": {},
   "outputs": [
    {
     "data": {
      "text/plain": [
       "LassoCV(alphas=array([0.001, 0.01 , 0.02 , 0.025, 0.05 , 0.1  , 0.25 , 0.5  , 0.8  ,\n",
       "       1.   ]),\n",
       "    copy_X=True, cv=5, eps=0.001, fit_intercept=False, max_iter=1000,\n",
       "    n_alphas=100, n_jobs=None, normalize=False, positive=False,\n",
       "    precompute='auto', random_state=0, selection='cyclic', tol=0.0001,\n",
       "    verbose=False)"
      ]
     },
     "execution_count": 263,
     "metadata": {},
     "output_type": "execute_result"
    }
   ],
   "source": [
    "from sklearn.linear_model import LassoCV\n",
    "lcv = LassoCV(alphas=my_alphas,normalize=False,fit_intercept=False,random_state=0,cv=5)\n",
    "#lancement sur l'échantillon d'apprentissage\n",
    "lcv.fit(ZTrain[:,1:12],ZTrain[:,0])"
   ]
  },
  {
   "cell_type": "code",
   "execution_count": 264,
   "metadata": {},
   "outputs": [
    {
     "name": "stdout",
     "output_type": "stream",
     "text": [
      "[1.    0.8   0.5   0.25  0.1   0.05  0.025 0.02  0.01  0.001]\n",
      "[[0.87311644 1.20730056 1.10386124 0.90709007 0.90863169]\n",
      " [0.87311644 1.20730056 1.10386124 0.90709007 0.90863169]\n",
      " [0.87311644 1.20730056 1.10386124 0.9018706  0.90863169]\n",
      " [0.70731925 0.96435887 0.95027    0.75603177 0.72614537]\n",
      " [0.63203263 0.77462025 0.88857342 0.71449247 0.69278187]\n",
      " [0.61793341 0.73007562 0.87717729 0.71518257 0.70092963]\n",
      " [0.61230613 0.71118383 0.87378753 0.71850445 0.70876043]\n",
      " [0.61134004 0.70780206 0.87339217 0.71943104 0.7106422 ]\n",
      " [0.60963791 0.7014738  0.87394325 0.7215802  0.7147699 ]\n",
      " [0.60831668 0.69670714 0.88499065 0.7241197  0.71933506]]\n"
     ]
    }
   ],
   "source": [
    "print(lcv.alphas_)\n",
    "print(lcv.mse_path_)"
   ]
  },
  {
   "cell_type": "markdown",
   "metadata": {},
   "source": [
    "La propriété mse_path_ est une matrice (10 x 5) : 10 parce que 10 versions de α ont été testées ; 5 parce que nous avons demandé une 5-fold validation croisée.\n",
    "Nous calculons la moyenne pour disposer d’une mesure de performance synthétique pour chaque scénario. Puis nous affichons le tableau mettant en relation α et le MSE (moyen) en validation croisée."
   ]
  },
  {
   "cell_type": "code",
   "execution_count": 265,
   "metadata": {},
   "outputs": [
    {
     "name": "stdout",
     "output_type": "stream",
     "text": [
      "   alpha       MSE\n",
      "0  1.000  1.000000\n",
      "1  0.800  1.000000\n",
      "2  0.500  0.998956\n",
      "3  0.250  0.820825\n",
      "4  0.100  0.740500\n",
      "5  0.050  0.728260\n",
      "6  0.025  0.724908\n",
      "7  0.020  0.724522\n",
      "8  0.010  0.724281\n",
      "9  0.001  0.726694\n"
     ]
    }
   ],
   "source": [
    "avg_mse = numpy.mean(lcv.mse_path_,axis=1)\n",
    "#alphas vs. MSE en cross-validation\n",
    "print(pd.DataFrame({'alpha':lcv.alphas_,'MSE':avg_mse})) "
   ]
  },
  {
   "cell_type": "code",
   "execution_count": 266,
   "metadata": {},
   "outputs": [
    {
     "data": {
      "image/png": "[encoded data removed]",
      "text/plain": [
       "<Figure size 432x288 with 1 Axes>"
      ]
     },
     "metadata": {
      "needs_background": "light"
     },
     "output_type": "display_data"
    }
   ],
   "source": [
    "plt.plot(lcv.alphas_,avg_mse)\n",
    "plt.xlabel('Alpha')\n",
    "plt.ylabel('MSE')\n",
    "plt.title('MSE vs. Alpha')\n",
    "plt.show()"
   ]
  },
  {
   "cell_type": "markdown",
   "metadata": {},
   "source": [
    "α = 0.01 est la solution qui minimise le MSE ( 0.724281), elle est composée de 11 variables explicatives."
   ]
  },
  {
   "cell_type": "code",
   "execution_count": 267,
   "metadata": {},
   "outputs": [
    {
     "name": "stdout",
     "output_type": "stream",
     "text": [
      "0.01\n"
     ]
    }
   ],
   "source": [
    "print(lcv.alpha_) "
   ]
  },
  {
   "cell_type": "markdown",
   "metadata": {},
   "source": [
    "alpha = 0.01 nous donne le moins MSE"
   ]
  },
  {
   "cell_type": "code",
   "execution_count": 280,
   "metadata": {},
   "outputs": [
    {
     "name": "stderr",
     "output_type": "stream",
     "text": [
      "D:\\python\\lib\\site-packages\\ipykernel_launcher.py:1: DataConversionWarning: Data with input dtype int64 were all converted to float64 by StandardScaler.\n",
      "  \"\"\"Entry point for launching an IPython kernel.\n"
     ]
    }
   ],
   "source": [
    "ZTest = sc.transform(dataTest)"
   ]
  },
  {
   "cell_type": "code",
   "execution_count": 282,
   "metadata": {},
   "outputs": [],
   "source": [
    "ypzLasso = lcv.predict(ZTest[:,1:12])"
   ]
  },
  {
   "cell_type": "code",
   "execution_count": 283,
   "metadata": {},
   "outputs": [],
   "source": [
    "ypLasso = ypzLasso*numpy.sqrt(sc.var_[0]) + sc.mean_[0]"
   ]
  },
  {
   "cell_type": "code",
   "execution_count": 295,
   "metadata": {},
   "outputs": [
    {
     "name": "stdout",
     "output_type": "stream",
     "text": [
      "2.46211916903286\n"
     ]
    }
   ],
   "source": [
    "print(mean_squared_error(yTest,ypLasso))"
   ]
  },
  {
   "cell_type": "markdown",
   "metadata": {},
   "source": [
    "Donc "
   ]
  },
  {
   "cell_type": "code",
   "execution_count": null,
   "metadata": {},
   "outputs": [],
   "source": []
  },
  {
   "cell_type": "code",
   "execution_count": 305,
   "metadata": {},
   "outputs": [
    {
     "ename": "TypeError",
     "evalue": "__init__() got an unexpected keyword argument 'cv'",
     "output_type": "error",
     "traceback": [
      "\u001b[1;31m---------------------------------------------------------------------------\u001b[0m",
      "\u001b[1;31mTypeError\u001b[0m                                 Traceback (most recent call last)",
      "\u001b[1;32m<ipython-input-305-3aaed28bf49c>\u001b[0m in \u001b[0;36m<module>\u001b[1;34m\u001b[0m\n\u001b[0;32m      4\u001b[0m     \u001b[0mn_alphas\u001b[0m\u001b[1;33m=\u001b[0m\u001b[1;36m100\u001b[0m\u001b[1;33m,\u001b[0m \u001b[0mn_jobs\u001b[0m\u001b[1;33m=\u001b[0m\u001b[1;32mNone\u001b[0m\u001b[1;33m,\u001b[0m \u001b[0mnormalize\u001b[0m\u001b[1;33m=\u001b[0m\u001b[1;32mFalse\u001b[0m\u001b[1;33m,\u001b[0m \u001b[0mpositive\u001b[0m\u001b[1;33m=\u001b[0m\u001b[1;32mFalse\u001b[0m\u001b[1;33m,\u001b[0m\u001b[1;33m\u001b[0m\u001b[1;33m\u001b[0m\u001b[0m\n\u001b[0;32m      5\u001b[0m     \u001b[0mprecompute\u001b[0m\u001b[1;33m=\u001b[0m\u001b[1;34m'auto'\u001b[0m\u001b[1;33m,\u001b[0m \u001b[0mrandom_state\u001b[0m\u001b[1;33m=\u001b[0m\u001b[1;36m0\u001b[0m\u001b[1;33m,\u001b[0m \u001b[0mselection\u001b[0m\u001b[1;33m=\u001b[0m\u001b[1;34m'cyclic'\u001b[0m\u001b[1;33m,\u001b[0m \u001b[0mtol\u001b[0m\u001b[1;33m=\u001b[0m\u001b[1;36m0.0001\u001b[0m\u001b[1;33m,\u001b[0m\u001b[1;33m\u001b[0m\u001b[1;33m\u001b[0m\u001b[0m\n\u001b[1;32m----> 6\u001b[1;33m     verbose=False)\n\u001b[0m",
      "\u001b[1;31mTypeError\u001b[0m: __init__() got an unexpected keyword argument 'cv'"
     ]
    }
   ],
   "source": [
    "from sklearn import linear_model\n",
    "\n",
    "clf = linear_model.Lasso(alpha=0.25,copy_X=True, cv=5, eps=0.001, fit_intercept=False, max_iter=1000,\n",
    "    n_alphas=100, n_jobs=None, normalize=False, positive=False,\n",
    "    precompute='auto', random_state=0, selection='cyclic', tol=0.0001,\n",
    "    verbose=False)"
   ]
  },
  {
   "cell_type": "code",
   "execution_count": 300,
   "metadata": {},
   "outputs": [
    {
     "data": {
      "text/plain": [
       "Lasso(alpha=0.25, copy_X=True, fit_intercept=True, max_iter=1000,\n",
       "   normalize=False, positive=False, precompute=False, random_state=None,\n",
       "   selection='cyclic', tol=0.0001, warm_start=False)"
      ]
     },
     "execution_count": 300,
     "metadata": {},
     "output_type": "execute_result"
    }
   ],
   "source": [
    "XTrain = dataTrain.loc[:, [\"exclusivité\", \"variété\", \"catalogue\",\"sélection\"]]\n",
    "YTrain = dataTrain.iloc[:, 0]\n",
    "clf.fit(XTrain, YTrain)"
   ]
  },
  {
   "cell_type": "code",
   "execution_count": 301,
   "metadata": {},
   "outputs": [],
   "source": [
    "XTest = dataTest.loc[:, [\"exclusivité\", \"variété\", \"catalogue\",\"sélection\"]]\n",
    "YTest = dataTest.iloc[:, 0]\n"
   ]
  },
  {
   "cell_type": "code",
   "execution_count": 303,
   "metadata": {},
   "outputs": [],
   "source": [
    "YPredict = clf.predict(XTest)"
   ]
  },
  {
   "cell_type": "code",
   "execution_count": 304,
   "metadata": {},
   "outputs": [
    {
     "name": "stdout",
     "output_type": "stream",
     "text": [
      "2.6721320821659296\n"
     ]
    }
   ],
   "source": [
    "print(mean_squared_error(YTest,YPredict ))"
   ]
  },
  {
   "cell_type": "code",
   "execution_count": null,
   "metadata": {},
   "outputs": [],
   "source": []
  }
 ],
 "metadata": {
  "kernelspec": {
   "display_name": "Python 3",
   "language": "python",
   "name": "python3"
  },
  "language_info": {
   "codemirror_mode": {
    "name": "ipython",
    "version": 3
   },
   "file_extension": ".py",
   "mimetype": "text/x-python",
   "name": "python",
   "nbconvert_exporter": "python",
   "pygments_lexer": "ipython3",
   "version": "3.7.1"
  }
 },
 "nbformat": 4,
 "nbformat_minor": 2
}
